{
 "cells": [
  {
   "cell_type": "code",
   "execution_count": 1,
   "metadata": {},
   "outputs": [],
   "source": [
    "import os\n",
    "import pickle\n",
    "import torch\n"
   ]
  },
  {
   "cell_type": "code",
   "execution_count": 2,
   "metadata": {},
   "outputs": [
    {
     "name": "stderr",
     "output_type": "stream",
     "text": [
      "c:\\Users\\RDebe\\anaconda3\\envs\\Evaluation_RAGAS\\Lib\\site-packages\\tqdm\\auto.py:21: TqdmWarning: IProgress not found. Please update jupyter and ipywidgets. See https://ipywidgets.readthedocs.io/en/stable/user_install.html\n",
      "  from .autonotebook import tqdm as notebook_tqdm\n"
     ]
    }
   ],
   "source": [
    "from datasets import Dataset \n",
    "from ragas import evaluate\n",
    "from ragas.metrics import answer_relevancy\n",
    "from ragas.llms import LangchainLLMWrapper\n"
   ]
  },
  {
   "cell_type": "code",
   "execution_count": 3,
   "metadata": {},
   "outputs": [],
   "source": [
    "from langchain_core.pydantic_v1 import BaseModel, Field, validator"
   ]
  },
  {
   "cell_type": "markdown",
   "metadata": {},
   "source": [
    "### Load Pickle files and Preprocess"
   ]
  },
  {
   "cell_type": "markdown",
   "metadata": {},
   "source": [
    "#### Define classes for loading pickle file\n",
    "In case feedback is provided specific Feedback Score class is in value of feedback key under generate_final_answer nodes"
   ]
  },
  {
   "cell_type": "code",
   "execution_count": 4,
   "metadata": {},
   "outputs": [],
   "source": [
    "class FeedbackScore(BaseModel):\n",
    "    \"\"\"Evaluates the quality of an answer with a score from 0 to 100.\"\"\"\n",
    "\n",
    "    feedback_score: int = Field(\n",
    "        default=0,\n",
    "        ge=0,\n",
    "        le=100,\n",
    "        description=\"Score tussen 0 en 100 bepalend voor de kwaliteit en relevantie van het antwoord gebaseerd op de documenten.\"\n",
    "    )\n",
    "\n",
    "    @validator('feedback_score')\n",
    "    def check_score_range(cls, value):\n",
    "        \"\"\"Ensure the score is within the allowed range.\"\"\"\n",
    "        if not (0 <= value <= 100):\n",
    "            raise ValueError('Score moet tussen 0 en 100 zijn')\n",
    "        return value"
   ]
  },
  {
   "cell_type": "markdown",
   "metadata": {},
   "source": [
    "#### Load Data"
   ]
  },
  {
   "cell_type": "code",
   "execution_count": 11,
   "metadata": {},
   "outputs": [],
   "source": [
    "def load_pkl(folder_path):\n",
    "    combined_dict = {}\n",
    "\n",
    "    # Iterate through all files in the specified folder\n",
    "    for filename in os.listdir(folder_path):\n",
    "        if filename.endswith('.pkl'):\n",
    "            file_path = os.path.join(folder_path, filename)\n",
    "            with open(file_path, 'rb') as f:\n",
    "                \n",
    "                data = pickle.load(f)\n",
    "                \n",
    "                for ecli, nodes in data.items():\n",
    "    # Remove 'generate_basic_2' -> not needed for evaluation\n",
    "                    nodes.pop('generate_basic_2', None)\n",
    "                    \n",
    "    # Filter out 'generate' nodes with empty 'documents' key -> no use in evaluation\n",
    "                    nodes_to_remove = []\n",
    "                    for node_key, node_value in nodes.items():\n",
    "                        if 'generate' in node_key and node_value.get('documents') in (None, [], {}):\n",
    "                            nodes_to_remove.append(node_key)\n",
    "                    \n",
    "                    for node_key in nodes_to_remove:\n",
    "                        nodes.pop(node_key, None)\n",
    "                    \n",
    "    # Merge the data into the combined dictionary\n",
    "                    if ecli in combined_dict:\n",
    "                        combined_dict[ecli].update(nodes)\n",
    "                    else:\n",
    "                        combined_dict[ecli] = nodes\n",
    "\n",
    "    return combined_dict"
   ]
  },
  {
   "cell_type": "code",
   "execution_count": 12,
   "metadata": {},
   "outputs": [],
   "source": [
    "combined_results = load_pkl('LLAMA')"
   ]
  },
  {
   "cell_type": "code",
   "execution_count": 13,
   "metadata": {},
   "outputs": [
    {
     "data": {
      "text/plain": [
       "1020"
      ]
     },
     "execution_count": 13,
     "metadata": {},
     "output_type": "execute_result"
    }
   ],
   "source": [
    "len(combined_results)"
   ]
  },
  {
   "cell_type": "code",
   "execution_count": 14,
   "metadata": {},
   "outputs": [],
   "source": [
    "# check structure of the combined results \n",
    "# and check correct removal of nodes not needed for evaluation\n",
    "for ecli, nodes in list(combined_results.items()):\n",
    "    for node_key, node_value in nodes.items():\n",
    "            # should result in no print statements\n",
    "            if 'generate' in node_key and node_value.get('documents') is None:\n",
    "                print(f\"  Node: {node_key}, Documents: {node_value.get('documents')}\")\n",
    "            # if 'generate' in node_key and node_value.get('documents') is not None:\n",
    "            #      print(f\"  Node: {node_key}, Documents: {len(node_value.get('documents'))}\")\n",
    "            "
   ]
  },
  {
   "cell_type": "code",
   "execution_count": 15,
   "metadata": {},
   "outputs": [
    {
     "data": {
      "text/plain": [
       "dict_keys(['generate_basic_1', 'grade_documents_1', 'generate_1', 'generate_final_answer_1'])"
      ]
     },
     "execution_count": 15,
     "metadata": {},
     "output_type": "execute_result"
    }
   ],
   "source": [
    "combined_results['ECLI_NL_RBZWB_2021_1987'].keys()"
   ]
  },
  {
   "cell_type": "markdown",
   "metadata": {},
   "source": [
    "#### Subset for feedback improvement"
   ]
  },
  {
   "cell_type": "code",
   "execution_count": 72,
   "metadata": {},
   "outputs": [],
   "source": [
    "def filter_combined_results(combined_dict):\n",
    "    filtered_dict = {k: v for k, v in combined_dict.items() \n",
    "                     if 'generate_final_answer_1' in v and 'generate_final_answer_2' in v}\n",
    "    return filtered_dict"
   ]
  },
  {
   "cell_type": "code",
   "execution_count": 73,
   "metadata": {},
   "outputs": [],
   "source": [
    "fb_subset = filter_combined_results(combined_results)"
   ]
  },
  {
   "cell_type": "code",
   "execution_count": 75,
   "metadata": {},
   "outputs": [
    {
     "data": {
      "text/plain": [
       "dict_keys(['ECLI_NL_RBMNE_2022_4294', 'ECLI_NL_RBAMS_2024_1429', 'ECLI_NL_RBAMS_2021_7553', 'ECLI_NL_RBOVE_2023_1928', 'ECLI_NL_RBNHO_2023_594', 'ECLI_NL_RBMNE_2019_1592', 'ECLI_NL_RBAMS_2022_7863', 'ECLI_NL_HR_2022_838'])"
      ]
     },
     "execution_count": 75,
     "metadata": {},
     "output_type": "execute_result"
    }
   ],
   "source": [
    "fb_subset.keys()"
   ]
  },
  {
   "cell_type": "markdown",
   "metadata": {},
   "source": [
    "#### Construct evaluation datasets & Metrics\n",
    "\n",
    "* Create data set per generation node \n",
    "* Calculate hit rate on grade_document nodes\n",
    "* Calculate judge relevacny on presence of feedback in final_answer nodes. If no feedback is present --> LLM has judged answer to be relevant (1)\n",
    "* Calculate improvement between final_1 relevancy if feedback was present versus final_2 relevancy "
   ]
  },
  {
   "cell_type": "code",
   "execution_count": 18,
   "metadata": {},
   "outputs": [],
   "source": [
    "\n",
    "\n",
    "def get_eval_data(results):\n",
    "    eval_datasets = {\n",
    "        'generate_basic_1': {'question': [], 'answer': [], 'contexts': []},\n",
    "        'generate_1': {'question': [], 'answer': [], 'contexts': []},\n",
    "        'generate_2': {'question': [], 'answer': [], 'contexts': []},\n",
    "        'generate_final_answer_1': {'question': [], 'answer': [], 'contexts': []},\n",
    "        'generate_final_answer_2': {'question': [], 'answer': [], 'contexts': []}\n",
    "    }\n",
    "    \n",
    "    for ecli, outputs in results.items():\n",
    "        for key, output in outputs.items():\n",
    "             if key in eval_datasets:\n",
    "                eval_datasets[key]['question'].append(output['question'])\n",
    "                eval_datasets[key]['answer'].append(output['generation'])\n",
    "                eval_datasets[key]['contexts'].append([doc for doc in output['documents']])\n",
    "    \n",
    "    return eval_datasets\n",
    "\n",
    "\n",
    "            "
   ]
  },
  {
   "cell_type": "code",
   "execution_count": 19,
   "metadata": {},
   "outputs": [],
   "source": [
    "data = get_eval_data(combined_results)"
   ]
  },
  {
   "cell_type": "code",
   "execution_count": 87,
   "metadata": {},
   "outputs": [],
   "source": [
    "data_subset = get_eval_data(fb_subset)"
   ]
  },
  {
   "cell_type": "code",
   "execution_count": 88,
   "metadata": {},
   "outputs": [
    {
     "data": {
      "text/plain": [
       "dict_keys(['question', 'answer', 'contexts'])"
      ]
     },
     "execution_count": 88,
     "metadata": {},
     "output_type": "execute_result"
    }
   ],
   "source": [
    "data['generate_final_answer_2'].keys()"
   ]
  },
  {
   "cell_type": "code",
   "execution_count": 89,
   "metadata": {},
   "outputs": [
    {
     "data": {
      "text/plain": [
       "dict_keys(['question', 'answer', 'contexts'])"
      ]
     },
     "execution_count": 89,
     "metadata": {},
     "output_type": "execute_result"
    }
   ],
   "source": [
    "data_subset['generate_final_answer_2'].keys()"
   ]
  },
  {
   "cell_type": "code",
   "execution_count": 81,
   "metadata": {},
   "outputs": [
    {
     "name": "stdout",
     "output_type": "stream",
     "text": [
      "generate_basic_1, 1020\n",
      "generate_1, 1014\n",
      "generate_2, 192\n",
      "generate_final_answer_1, 998\n",
      "generate_final_answer_2, 8\n"
     ]
    }
   ],
   "source": [
    "# check lengths to see distribution over the 'generate' nodes\n",
    "for key in data.keys():\n",
    "    print(f\"{key}, {len(data[key]['question'])}\")\n"
   ]
  },
  {
   "cell_type": "code",
   "execution_count": 144,
   "metadata": {},
   "outputs": [
    {
     "data": {
      "text/plain": [
       "Dataset({\n",
       "    features: ['question', 'answer', 'contexts'],\n",
       "    num_rows: 1020\n",
       "})"
      ]
     },
     "execution_count": 144,
     "metadata": {},
     "output_type": "execute_result"
    }
   ],
   "source": [
    "dataset = Dataset.from_dict(data['generate_basic_1'])\n",
    "dataset"
   ]
  },
  {
   "cell_type": "code",
   "execution_count": 82,
   "metadata": {},
   "outputs": [
    {
     "name": "stdout",
     "output_type": "stream",
     "text": [
      "generate_basic_1, 8\n",
      "generate_1, 8\n",
      "generate_2, 2\n",
      "generate_final_answer_1, 8\n",
      "generate_final_answer_2, 8\n"
     ]
    }
   ],
   "source": [
    "# check lengths to see if subset is correct\n",
    "for key in data_subset.keys():\n",
    "    print(f\"{key}, {len(data_subset[key]['question'])}\")"
   ]
  },
  {
   "cell_type": "code",
   "execution_count": 91,
   "metadata": {},
   "outputs": [],
   "source": [
    "dataset_subset = Dataset.from_dict(data_subset['generate_final_answer_2'])"
   ]
  },
  {
   "cell_type": "code",
   "execution_count": 92,
   "metadata": {},
   "outputs": [
    {
     "data": {
      "text/plain": [
       "Dataset({\n",
       "    features: ['question', 'answer', 'contexts'],\n",
       "    num_rows: 8\n",
       "})"
      ]
     },
     "execution_count": 92,
     "metadata": {},
     "output_type": "execute_result"
    }
   ],
   "source": [
    "# check structure\n",
    "dataset_subset"
   ]
  },
  {
   "cell_type": "code",
   "execution_count": 22,
   "metadata": {},
   "outputs": [],
   "source": [
    "metrics = [answer_relevancy]"
   ]
  },
  {
   "cell_type": "markdown",
   "metadata": {},
   "source": [
    "\n",
    "### GPT 3.5-turbo 0125 Evaluator"
   ]
  },
  {
   "cell_type": "code",
   "execution_count": 208,
   "metadata": {},
   "outputs": [],
   "source": [
    "os.environ['OPENAI_API_KEY'] = 'yOUR_API_KEY'"
   ]
  },
  {
   "cell_type": "code",
   "execution_count": 196,
   "metadata": {},
   "outputs": [],
   "source": [
    "\n",
    "from langchain_openai import OpenAIEmbeddings\n",
    "from langchain.chat_models import ChatOpenAI"
   ]
  },
  {
   "cell_type": "code",
   "execution_count": 209,
   "metadata": {},
   "outputs": [],
   "source": [
    "llm_gpt = ChatOpenAI(model='gpt-3.5-turbo-0125', temperature=0, api_key=os.environ['OPENAI_API_KEY'])\n",
    "embeddings_gpt = OpenAIEmbeddings(model='text-embedding-3-small')"
   ]
  },
  {
   "cell_type": "code",
   "execution_count": 210,
   "metadata": {},
   "outputs": [],
   "source": [
    "llm_gpt = LangchainLLMWrapper(llm_gpt)"
   ]
  },
  {
   "cell_type": "code",
   "execution_count": 211,
   "metadata": {},
   "outputs": [],
   "source": [
    "for m in metrics:\n",
    "    # change LLM for metric\n",
    "    m.__setattr__(\"llm\", llm_gpt)\n",
    "\n",
    "    # check if this metric needs embeddings\n",
    "    if hasattr(m, \"embeddings\"):\n",
    "        # if so change with OpenAI Embeddings\n",
    "        m.__setattr__(\"embeddings\", embeddings_gpt)"
   ]
  },
  {
   "cell_type": "code",
   "execution_count": null,
   "metadata": {},
   "outputs": [],
   "source": [
    "score_gpt = evaluate(dataset,\n",
    "                     metrics=metrics,\n",
    "                     raise_exceptions=False)\n"
   ]
  },
  {
   "cell_type": "code",
   "execution_count": 37,
   "metadata": {},
   "outputs": [
    {
     "data": {
      "text/plain": [
       "{'faithfulness': 0.9631, 'answer_relevancy': 0.7608, 'context_relevancy': 0.1051}"
      ]
     },
     "execution_count": 37,
     "metadata": {},
     "output_type": "execute_result"
    }
   ],
   "source": [
    "score_gpt"
   ]
  },
  {
   "cell_type": "markdown",
   "metadata": {},
   "source": [
    "### Gemini 1.5-PRO Evaluator using VertexAI"
   ]
  },
  {
   "cell_type": "code",
   "execution_count": 23,
   "metadata": {},
   "outputs": [],
   "source": [
    "\n",
    "from langchain.chat_models import ChatVertexAI\n",
    "from langchain.embeddings import VertexAIEmbeddings"
   ]
  },
  {
   "cell_type": "code",
   "execution_count": 24,
   "metadata": {},
   "outputs": [],
   "source": [
    "import google.auth"
   ]
  },
  {
   "cell_type": "code",
   "execution_count": 25,
   "metadata": {},
   "outputs": [],
   "source": [
    "config = {\n",
    "    \"project_id\": \"YOUR_PROJECT_ID\",\n",
    "}\n",
    "\n",
    "# authenticate to GCP\n",
    "creds, _ = google.auth.default(quota_project_id=\"YOUR_PROJECT_ID\")"
   ]
  },
  {
   "cell_type": "code",
   "execution_count": 26,
   "metadata": {},
   "outputs": [],
   "source": [
    "import vertexai"
   ]
  },
  {
   "cell_type": "code",
   "execution_count": 27,
   "metadata": {},
   "outputs": [],
   "source": [
    "vertexai.init(project=\"YOUR_PROJECT_ID\")\n"
   ]
  },
  {
   "cell_type": "code",
   "execution_count": 28,
   "metadata": {},
   "outputs": [
    {
     "name": "stderr",
     "output_type": "stream",
     "text": [
      "c:\\Users\\RDebe\\anaconda3\\envs\\Evaluation_RAGAS\\Lib\\site-packages\\langchain_core\\_api\\deprecation.py:119: LangChainDeprecationWarning: The class `ChatVertexAI` was deprecated in LangChain 0.0.12 and will be removed in 0.3.0. An updated version of the class exists in the langchain-google-vertexai package and should be used instead. To use it run `pip install -U langchain-google-vertexai` and import as `from langchain_google_vertexai import ChatVertexAI`.\n",
      "  warn_deprecated(\n",
      "c:\\Users\\RDebe\\anaconda3\\envs\\Evaluation_RAGAS\\Lib\\site-packages\\langchain_core\\_api\\deprecation.py:119: LangChainDeprecationWarning: The class `VertexAIEmbeddings` was deprecated in LangChain 0.0.12 and will be removed in 0.3.0. An updated version of the class exists in the langchain-google-vertexai package and should be used instead. To use it run `pip install -U langchain-google-vertexai` and import as `from langchain_google_vertexai import VertexAIEmbeddings`.\n",
      "  warn_deprecated(\n",
      "Model_name will become a required arg for VertexAIEmbeddings starting from Feb-01-2024. Currently the default is set to textembedding-gecko@001\n"
     ]
    }
   ],
   "source": [
    "llm = ChatVertexAI(temperature=0, model='gemini-pro', credentials=creds)\n",
    "vertexai_embeddings = VertexAIEmbeddings(credentials=creds)"
   ]
  },
  {
   "cell_type": "code",
   "execution_count": 29,
   "metadata": {},
   "outputs": [],
   "source": [
    "from ragas.llms import LangchainLLMWrapper\n",
    "ragas_vertexai_llm = LangchainLLMWrapper(llm)"
   ]
  },
  {
   "cell_type": "code",
   "execution_count": 30,
   "metadata": {},
   "outputs": [],
   "source": [
    "for m in metrics:\n",
    "    # change LLM for metric\n",
    "    m.__setattr__(\"llm\", ragas_vertexai_llm)\n",
    "\n",
    "    # check if this metric needs embeddings\n",
    "    if hasattr(m, \"embeddings\"):\n",
    "        # if so change with VertexAI Embeddings\n",
    "        m.__setattr__(\"embeddings\", vertexai_embeddings)"
   ]
  },
  {
   "cell_type": "code",
   "execution_count": 31,
   "metadata": {},
   "outputs": [
    {
     "name": "stdout",
     "output_type": "stream",
     "text": [
      "[AnswerRelevancy(embeddings=VertexAIEmbeddings(project=None, location='us-central1', request_parallelism=5, max_retries=6, stop=None, model_name='textembedding-gecko@001', client=<vertexai.language_models.TextEmbeddingModel object at 0x000002282E3C2030>, client_preview=None, temperature=0.0, max_output_tokens=128, top_p=0.95, top_k=40, credentials=<google.oauth2.credentials.Credentials object at 0x00000228242D6480>, n=1, streaming=False, instance={'max_batch_size': 250, 'batch_size': 250, 'min_batch_size': 5, 'min_good_batch_size': 5, 'lock': <unlocked _thread.lock object at 0x000002282E52B1C0>, 'batch_size_validated': False, 'task_executor': <concurrent.futures.thread.ThreadPoolExecutor object at 0x000002282C28ACF0>, 'embeddings_task_type_supported': False}, show_progress_bar=False), llm=LangchainLLMWrapper(run_config=RunConfig(timeout=60, max_retries=10, max_wait=60, max_workers=16, exception_types=<class 'Exception'>)), name='answer_relevancy', evaluation_mode=<EvaluationMode.qac: 1>, question_generation=Prompt(name='question_generation', instruction='Generate a question for the given answer and Identify if answer is noncommittal. Give noncommittal as 1 if the answer is noncommittal and 0 if the answer is committal. A noncommittal answer is one that is evasive, vague, or ambiguous. For example, \"I don\\'t know\" or \"I\\'m not sure\" are noncommittal answers', output_format_instruction='The output should be a well-formatted JSON instance that conforms to the JSON schema below.\\n\\nAs an example, for the schema {\"properties\": {\"foo\": {\"title\": \"Foo\", \"description\": \"a list of strings\", \"type\": \"array\", \"items\": {\"type\": \"string\"}}}, \"required\": [\"foo\"]}\\nthe object {\"foo\": [\"bar\", \"baz\"]} is a well-formatted instance of the schema. The object {\"properties\": {\"foo\": [\"bar\", \"baz\"]}} is not well-formatted.\\n\\nHere is the output JSON schema:\\n```\\n{\"type\": \"object\", \"properties\": {\"question\": {\"title\": \"Question\", \"type\": \"string\"}, \"noncommittal\": {\"title\": \"Noncommittal\", \"type\": \"integer\"}}, \"required\": [\"question\", \"noncommittal\"]}\\n```\\n\\nDo not return any preamble or explanations, return only a pure JSON string surrounded by triple backticks (```).', examples=[{'answer': 'Albert Einstein was born in Germany.', 'context': 'Albert Einstein was a German-born theoretical physicist who is widely held to be one of the greatest and most influential scientists of all time', 'output': {'question': 'Where was Albert Einstein born?', 'noncommittal': 0}}, {'answer': 'It can change its skin color based on the temperature of its environment.', 'context': 'A recent scientific study has discovered a new species of frog in the Amazon rainforest that has the unique ability to change its skin color based on the temperature of its environment.', 'output': {'question': 'What unique ability does the newly discovered species of frog have?', 'noncommittal': 0}}, {'answer': 'Everest', 'context': 'The tallest mountain on Earth, measured from sea level, is a renowned peak located in the Himalayas.', 'output': {'question': 'What is the tallest mountain on Earth?', 'noncommittal': 0}}, {'answer': \"I don't know about the  groundbreaking feature of the smartphone invented in 2023 as am unaware of information beyond 2022. \", 'context': 'In 2023, a groundbreaking invention was announced: a smartphone with a battery life of one month, revolutionizing the way people use mobile technology.', 'output': {'question': 'What was the groundbreaking feature of the smartphone invented in 2023?', 'noncommittal': 1}}], input_keys=['answer', 'context'], output_key='output', output_type='json', language='english'), strictness=3)]\n"
     ]
    }
   ],
   "source": [
    "print(metrics)"
   ]
  },
  {
   "cell_type": "code",
   "execution_count": 32,
   "metadata": {},
   "outputs": [],
   "source": [
    "from ragas import adapt\n",
    "# llm is base model, other is in wrapper\n",
    "adapt(metrics=metrics, language=\"dutch\", llm=llm)"
   ]
  },
  {
   "cell_type": "code",
   "execution_count": 100,
   "metadata": {},
   "outputs": [
    {
     "name": "stdout",
     "output_type": "stream",
     "text": [
      "[AnswerRelevancy(embeddings=VertexAIEmbeddings(project=None, location='us-central1', request_parallelism=5, max_retries=6, stop=None, model_name='textembedding-gecko@001', client=<vertexai.language_models.TextEmbeddingModel object at 0x000002282E3C2030>, client_preview=None, temperature=0.0, max_output_tokens=128, top_p=0.95, top_k=40, credentials=<google.oauth2.credentials.Credentials object at 0x00000228242D6480>, n=1, streaming=False, instance={'max_batch_size': 250, 'batch_size': 250, 'min_batch_size': 5, 'min_good_batch_size': 5, 'lock': <unlocked _thread.lock object at 0x000002282E52B1C0>, 'batch_size_validated': False, 'task_executor': <concurrent.futures.thread.ThreadPoolExecutor object at 0x000002282C28ACF0>, 'embeddings_task_type_supported': False}, show_progress_bar=False), llm=LangchainLLMWrapper(run_config=RunConfig(timeout=60, max_retries=10, max_wait=60, max_workers=16, exception_types=<class 'Exception'>)), name='answer_relevancy', evaluation_mode=<EvaluationMode.qac: 1>, question_generation=Prompt(name='question_generation', instruction='Generate a question for the given answer and Identify if answer is noncommittal. Give noncommittal as 1 if the answer is noncommittal and 0 if the answer is committal. A noncommittal answer is one that is evasive, vague, or ambiguous. For example, \"I don\\'t know\" or \"I\\'m not sure\" are noncommittal answers', output_format_instruction='The output should be a well-formatted JSON instance that conforms to the JSON schema below.\\n\\nAs an example, for the schema {\"properties\": {\"foo\": {\"title\": \"Foo\", \"description\": \"a list of strings\", \"type\": \"array\", \"items\": {\"type\": \"string\"}}}, \"required\": [\"foo\"]}\\nthe object {\"foo\": [\"bar\", \"baz\"]} is a well-formatted instance of the schema. The object {\"properties\": {\"foo\": [\"bar\", \"baz\"]}} is not well-formatted.\\n\\nHere is the output JSON schema:\\n```\\n{\"type\": \"object\", \"properties\": {\"question\": {\"title\": \"Question\", \"type\": \"string\"}, \"noncommittal\": {\"title\": \"Noncommittal\", \"type\": \"integer\"}}, \"required\": [\"question\", \"noncommittal\"]}\\n```\\n\\nDo not return any preamble or explanations, return only a pure JSON string surrounded by triple backticks (```).', examples=[{'answer': ' Albert Einstein werd geboren in Duitsland.', 'context': ' Albert Einstein was een in Duitsland geboren theoretisch natuurkundige die algemeen wordt beschouwd als een van de grootste en meest invloedrijke wetenschappers aller tijden', 'output': {'question': 'Waar is Albert Einstein geboren?', 'noncommittal': 0}}, {'answer': ' Het kan zijn huidskleur veranderen op basis van de temperatuur van zijn omgeving.', 'context': ' Een recente wetenschappelijke studie heeft een nieuwe kikkersoort ontdekt in het Amazone-regenwoud die het unieke vermogen heeft om zijn huidskleur te veranderen op basis van de temperatuur van zijn omgeving.', 'output': {'question': 'Wat is het unieke vermogen van de nieuw ontdekte kikkersoort?', 'noncommittal': 0}}, {'answer': ' Everest', 'context': ' De hoogste berg ter wereld, gemeten vanaf zeeniveau, is een beroemde piek in de Himalaya.', 'output': {'question': 'Wat is de hoogste berg op aarde?', 'noncommittal': 0}}, {'answer': ' Ik weet niets over de baanbrekende functie van de smartphone die in 2023 is uitgevonden, omdat ik geen informatie heb over gebeurtenissen na 2022.', 'context': ' In 2023 werd een baanbrekende uitvinding aangekondigd: een smartphone met een batterijduur van een maand, wat de manier waarop mensen mobiele technologie gebruiken revolutioneert.', 'output': {'question': 'Wat was de baanbrekende functie van de smartphone die in 2023 werd uitgevonden?', 'noncommittal': 1}}], input_keys=['answer', 'context'], output_key='output', output_type='json', language='dutch'), strictness=3)]\n"
     ]
    }
   ],
   "source": [
    "print(metrics)"
   ]
  },
  {
   "cell_type": "code",
   "execution_count": 34,
   "metadata": {},
   "outputs": [],
   "source": [
    "evaluation_scores = {}"
   ]
  },
  {
   "cell_type": "markdown",
   "metadata": {},
   "source": [
    "#### Evaluate Across ALL cases\n",
    "evaluation for each generation node"
   ]
  },
  {
   "cell_type": "code",
   "execution_count": null,
   "metadata": {},
   "outputs": [],
   "source": [
    "\n",
    "for key in data.keys():\n",
    "    dataset = Dataset.from_dict(data[key])\n",
    "    \n",
    "    score_vertex_NL = evaluate(dataset=dataset,  \n",
    "                               metrics=metrics,\n",
    "                               raise_exceptions=False)\n",
    "    evaluation_scores[key] = score_vertex_NL"
   ]
  },
  {
   "cell_type": "code",
   "execution_count": 54,
   "metadata": {},
   "outputs": [
    {
     "data": {
      "text/plain": [
       "{'generate_basic_1': {'answer_relevancy': 0.7717},\n",
       " 'generate_1': {'answer_relevancy': 0.7564},\n",
       " 'generate_2': {'answer_relevancy': 0.8393},\n",
       " 'generate_final_answer_1': {'answer_relevancy': 0.8613},\n",
       " 'generate_final_answer_2': {'answer_relevancy': 0.7570}}"
      ]
     },
     "execution_count": 54,
     "metadata": {},
     "output_type": "execute_result"
    }
   ],
   "source": [
    "evaluation_scores"
   ]
  },
  {
   "cell_type": "code",
   "execution_count": null,
   "metadata": {},
   "outputs": [],
   "source": [
    "for key in evaluation_scores.keys():\n",
    "    evaluation_scores[key].to_pandas().to_excel(f'LLAMA{key}.xlsx')"
   ]
  },
  {
   "cell_type": "markdown",
   "metadata": {},
   "source": [
    "#### Evaluation of (NO) improvement before and after feedback"
   ]
  },
  {
   "cell_type": "code",
   "execution_count": 101,
   "metadata": {},
   "outputs": [],
   "source": [
    "eval_feedback = {}"
   ]
  },
  {
   "cell_type": "code",
   "execution_count": 109,
   "metadata": {},
   "outputs": [
    {
     "name": "stderr",
     "output_type": "stream",
     "text": [
      "Evaluating: 100%|██████████| 8/8 [00:08<00:00,  1.06s/it]\n",
      "Evaluating: 100%|██████████| 8/8 [00:05<00:00,  1.44it/s]\n",
      "Evaluating: 100%|██████████| 2/2 [00:03<00:00,  1.92s/it]\n",
      "Evaluating: 100%|██████████| 8/8 [00:05<00:00,  1.37it/s]\n",
      "Evaluating: 100%|██████████| 8/8 [00:05<00:00,  1.48it/s]\n"
     ]
    }
   ],
   "source": [
    "\n",
    "for key in data_subset.keys():\n",
    "    dataset = Dataset.from_dict(data_subset[key])\n",
    "    \n",
    "    score_FB_NL = evaluate(dataset=dataset,  \n",
    "                               metrics=metrics,\n",
    "                               raise_exceptions=False)\n",
    "    eval_feedback[key] = score_FB_NL\n"
   ]
  },
  {
   "cell_type": "code",
   "execution_count": 104,
   "metadata": {},
   "outputs": [
    {
     "data": {
      "text/plain": [
       "{'generate_basic_1': {'answer_relevancy': 0.7178},\n",
       " 'generate_1': {'answer_relevancy': 0.6951},\n",
       " 'generate_2': {'answer_relevancy': 0.0000},\n",
       " 'generate_final_answer_1': {'answer_relevancy': 0.6331},\n",
       " 'generate_final_answer_2': {'answer_relevancy': 0.7680}}"
      ]
     },
     "execution_count": 104,
     "metadata": {},
     "output_type": "execute_result"
    }
   ],
   "source": [
    "eval_feedback"
   ]
  },
  {
   "cell_type": "code",
   "execution_count": 96,
   "metadata": {},
   "outputs": [],
   "source": [
    "for key in eval_feedback.keys():\n",
    "    eval_feedback[key].to_pandas().to_excel(f'LLAMA_Feedback{key}.xlsx')"
   ]
  },
  {
   "cell_type": "markdown",
   "metadata": {},
   "source": [
    "### HIT RATES"
   ]
  },
  {
   "cell_type": "markdown",
   "metadata": {},
   "source": [
    "#### Retrieval HITS"
   ]
  },
  {
   "cell_type": "code",
   "execution_count": 114,
   "metadata": {},
   "outputs": [],
   "source": [
    "def calculate_hit_rates(results):\n",
    "    hit_rates = []\n",
    "    hit_rates_0 = []\n",
    "    hit_rates_1 = []\n",
    "    hit_rates_2 = []\n",
    "    hit_rates_3 = []\n",
    "\n",
    "    for ecli, nodes in results.items():\n",
    "        for node_key, node_value in nodes.items():\n",
    "            # get hit rates for first iteration\n",
    "            if node_key == 'grade_documents_1':\n",
    "                n_relevant_docs = node_value.get('n_relevant_docs')\n",
    "                n_ranked_docs = node_value.get('n_ranked_docs')  \n",
    "                \n",
    "                hit_rate = n_relevant_docs / n_ranked_docs\n",
    "                hit_rates.append(hit_rate)\n",
    "                \n",
    "                # store hit rates for first iteration\n",
    "                hit_rates_3.append(hit_rate)\n",
    "                \n",
    "                # if at first iteration threshold is met -> append to hit_rates_0\n",
    "                if n_relevant_docs >= 4:\n",
    "                    hit_rates_0.append(hit_rate)\n",
    "                else:\n",
    "                    hit_rates_1.append(hit_rate)\n",
    "\n",
    "            # get hit rates for second iteration\n",
    "            if node_key == 'grade_documents_2':\n",
    "                n_relevant_docs = node_value.get('n_relevant_docs')\n",
    "                n_ranked_docs = node_value.get('n_ranked_docs') \n",
    "                \n",
    "                hit_rate_2 = n_relevant_docs / n_ranked_docs\n",
    "                hit_rates_2.append(hit_rate_2)\n",
    "                # store hit rates for second iteration\n",
    "\n",
    "                hit_rates_3.append(hit_rate_2)\n",
    "    \n",
    "    return hit_rates, hit_rates_0, hit_rates_1, hit_rates_2, hit_rates_3\n",
    "\n",
    "def average_hit_rate(hit_rates):\n",
    "    return sum(hit_rates) / len(hit_rates)"
   ]
  },
  {
   "cell_type": "code",
   "execution_count": 115,
   "metadata": {},
   "outputs": [],
   "source": [
    "hit_rates, hit_rates_0, hit_rates_1, hit_rates_2, hit_rates_3 = calculate_hit_rates(combined_results)"
   ]
  },
  {
   "cell_type": "code",
   "execution_count": 116,
   "metadata": {},
   "outputs": [
    {
     "data": {
      "text/plain": [
       "0.7057379236722712"
      ]
     },
     "execution_count": 116,
     "metadata": {},
     "output_type": "execute_result"
    }
   ],
   "source": [
    "# average hiut rate for all iterations\n",
    "average_hit_rate(hit_rates_3)"
   ]
  },
  {
   "cell_type": "code",
   "execution_count": 50,
   "metadata": {},
   "outputs": [
    {
     "data": {
      "text/plain": [
       "0.7680228758169935"
      ]
     },
     "execution_count": 50,
     "metadata": {},
     "output_type": "execute_result"
    }
   ],
   "source": [
    "# average hit ratefor first  iterations\n",
    "average_hit_rate(hit_rates)"
   ]
  },
  {
   "cell_type": "code",
   "execution_count": 51,
   "metadata": {},
   "outputs": [
    {
     "data": {
      "text/plain": [
       "0.8863885377159714"
      ]
     },
     "execution_count": 51,
     "metadata": {},
     "output_type": "execute_result"
    }
   ],
   "source": [
    "# average hit rate when no second iteration of retrieval was needed\n",
    "average_hit_rate(hit_rates_0)"
   ]
  },
  {
   "cell_type": "code",
   "execution_count": 52,
   "metadata": {},
   "outputs": [
    {
     "data": {
      "text/plain": [
       "0.35917030567685587"
      ]
     },
     "execution_count": 52,
     "metadata": {},
     "output_type": "execute_result"
    }
   ],
   "source": [
    "# average hit rate over all ECLI and iterations with less than 3 relevant docs\n",
    "average_hit_rate(hit_rates_1)"
   ]
  },
  {
   "cell_type": "code",
   "execution_count": 53,
   "metadata": {},
   "outputs": [
    {
     "data": {
      "text/plain": [
       "0.4283114992721979"
      ]
     },
     "execution_count": 53,
     "metadata": {},
     "output_type": "execute_result"
    }
   ],
   "source": [
    "# average hit rate over all ECLI after second iteration of retrieval\n",
    "average_hit_rate(hit_rates_2)"
   ]
  },
  {
   "cell_type": "markdown",
   "metadata": {},
   "source": [
    "#### Distribution Plots Hit Rate"
   ]
  },
  {
   "cell_type": "code",
   "execution_count": 117,
   "metadata": {},
   "outputs": [],
   "source": [
    "import matplotlib.pyplot as plt\n",
    "import seaborn as sns"
   ]
  },
  {
   "cell_type": "code",
   "execution_count": 128,
   "metadata": {},
   "outputs": [],
   "source": [
    "def plot_hit_rate_distributions(hit_rates_dict):\n",
    "    plt.figure(figsize=(14, 10))\n",
    "    \n",
    "    plot_titles = [\n",
    "        'Distribution of All Hit Rates',\n",
    "        'Hit Rates (n_relevant_docs >= 4 in First Iteration)',\n",
    "        'Hit Rates (n_relevant_docs < 4 in First Iteration)',\n",
    "        'Hit Rates from Second Iteration'\n",
    "    ]\n",
    "    \n",
    "    for idx, (hit_rates, title) in enumerate(zip(hit_rates_dict.values(), plot_titles), start=1):\n",
    "        plt.subplot(2, 2, idx)\n",
    "        sns.histplot(hit_rates, bins=7, kde=True, color='skyblue', edgecolor='black')\n",
    "        plt.title(title, fontsize=14)\n",
    "        plt.xlabel('Hit Rate', fontsize=12)\n",
    "        plt.ylabel('Frequency', fontsize=12)\n",
    "        plt.xlim(0,1)\n",
    "\n",
    "        plt.grid(True)\n",
    "    \n",
    "    plt.tight_layout()\n",
    "    plt.show()"
   ]
  },
  {
   "cell_type": "code",
   "execution_count": 129,
   "metadata": {},
   "outputs": [
    {
     "data": {
      "image/png": "[encoded data removed]",
      "text/plain": [
       "<Figure size 1400x1000 with 4 Axes>"
      ]
     },
     "metadata": {},
     "output_type": "display_data"
    }
   ],
   "source": [
    "hit_rates_dict = {\n",
    "    'all': hit_rates,\n",
    "    'first_iteration_high': hit_rates_0,\n",
    "    'first_iteration_low': hit_rates_1,\n",
    "    'second_iteration': hit_rates_2,\n",
    "}\n",
    "\n",
    "plot_hit_rate_distributions(hit_rates_dict)"
   ]
  },
  {
   "cell_type": "markdown",
   "metadata": {},
   "source": [
    "#### Judge HITS"
   ]
  },
  {
   "cell_type": "code",
   "execution_count": 58,
   "metadata": {},
   "outputs": [
    {
     "data": {
      "text/plain": [
       "0.9784313725490196"
      ]
     },
     "execution_count": 58,
     "metadata": {},
     "output_type": "execute_result"
    }
   ],
   "source": [
    "# Overall hit rate deemed relevant by LLM\n",
    "len(data['generate_final_answer_1']['question']) / len(data['generate_basic_1']['question'])"
   ]
  }
 ],
 "metadata": {
  "kernelspec": {
   "display_name": "A-Thesis",
   "language": "python",
   "name": "python3"
  },
  "language_info": {
   "codemirror_mode": {
    "name": "ipython",
    "version": 3
   },
   "file_extension": ".py",
   "mimetype": "text/x-python",
   "name": "python",
   "nbconvert_exporter": "python",
   "pygments_lexer": "ipython3",
   "version": "3.12.3"
  }
 },
 "nbformat": 4,
 "nbformat_minor": 2
}
