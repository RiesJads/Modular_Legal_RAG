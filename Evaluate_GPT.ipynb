{
 "cells": [
  {
   "cell_type": "code",
   "execution_count": 1,
   "metadata": {},
   "outputs": [],
   "source": [
    "import os\n",
    "import pickle\n",
    "import torch\n"
   ]
  },
  {
   "cell_type": "code",
   "execution_count": 268,
   "metadata": {},
   "outputs": [],
   "source": [
    "from datasets import Dataset \n",
    "from ragas import evaluate\n",
    "from ragas.metrics import (answer_relevancy)\n",
    "from ragas.llms import LangchainLLMWrapper\n"
   ]
  },
  {
   "cell_type": "code",
   "execution_count": 3,
   "metadata": {},
   "outputs": [],
   "source": [
    "from langchain_core.pydantic_v1 import BaseModel, Field, validator"
   ]
  },
  {
   "cell_type": "markdown",
   "metadata": {},
   "source": [
    "### Load Pickle files and Preprocess"
   ]
  },
  {
   "cell_type": "markdown",
   "metadata": {},
   "source": [
    "#### Define classes for loading pickle file\n",
    "In case feedback is provided specific Feedback Score class is in value of feedback key under generate_final_answer nodes"
   ]
  },
  {
   "cell_type": "code",
   "execution_count": 4,
   "metadata": {},
   "outputs": [],
   "source": [
    "class FeedbackScore(BaseModel):\n",
    "    \"\"\"Evaluates the quality of an answer with a score from 0 to 100.\"\"\"\n",
    "\n",
    "    feedback_score: int = Field(\n",
    "        default=0,\n",
    "        ge=0,\n",
    "        le=100,\n",
    "        description=\"Score tussen 0 en 100 bepalend voor de kwaliteit en relevantie van het antwoord gebaseerd op de documenten.\"\n",
    "    )\n",
    "\n",
    "    @validator('feedback_score')\n",
    "    def check_score_range(cls, value):\n",
    "        \"\"\"Ensure the score is within the allowed range.\"\"\"\n",
    "        if not (0 <= value <= 100):\n",
    "            raise ValueError('Score moet tussen 0 en 100 zijn')\n",
    "        return value"
   ]
  },
  {
   "cell_type": "markdown",
   "metadata": {},
   "source": [
    "#### Load Data"
   ]
  },
  {
   "cell_type": "code",
   "execution_count": 266,
   "metadata": {},
   "outputs": [],
   "source": [
    "def load_pkl(folder_path):\n",
    "    combined_dict = {}\n",
    "    # Iterate through all files in the specified folder\n",
    "    for filename in os.listdir(folder_path):\n",
    "        if filename.endswith('.pkl'):\n",
    "            file_path = os.path.join(folder_path, filename)\n",
    "            with open(file_path, 'rb') as f:\n",
    "                \n",
    "                data = pickle.load(f)\n",
    "                \n",
    "                for ecli, nodes in data.items():\n",
    "    # Remove 'generate_basic_2' -> not needed for evaluation\n",
    "                    nodes.pop('generate_basic_2', None)\n",
    "                    \n",
    "    # Filter out 'generate' nodes with empty 'documents' key -> no use in evaluation\n",
    "                    nodes_to_remove = []\n",
    "                    for node_key, node_value in nodes.items():\n",
    "                        if 'generate' in node_key and node_value.get('documents') in (None, [], {}):\n",
    "                            nodes_to_remove.append(node_key)\n",
    "                    # print(f\"Removing {nodes_to_remove} nodes from {ecli}\")\n",
    "                    for node_key in nodes_to_remove:\n",
    "                        nodes.pop(node_key, None)\n",
    "                        \n",
    "    # Merge the data into the combined dictionary\n",
    "                    if ecli in combined_dict:\n",
    "                        combined_dict[ecli].update(nodes)\n",
    "                    else:\n",
    "                        combined_dict[ecli] = nodes\n",
    "    \n",
    "    return combined_dict"
   ]
  },
  {
   "cell_type": "code",
   "execution_count": 267,
   "metadata": {},
   "outputs": [],
   "source": [
    "combined_results = load_pkl('GPT')"
   ]
  },
  {
   "cell_type": "code",
   "execution_count": 256,
   "metadata": {},
   "outputs": [
    {
     "data": {
      "text/plain": [
       "dict_keys(['generate_basic_1', 'grade_documents_1', 'generate_1', 'generate_final_answer_1'])"
      ]
     },
     "execution_count": 256,
     "metadata": {},
     "output_type": "execute_result"
    }
   ],
   "source": [
    "combined_results['ECLI_NL_GHARL_2021_11610'].keys()"
   ]
  },
  {
   "cell_type": "code",
   "execution_count": 257,
   "metadata": {},
   "outputs": [
    {
     "data": {
      "text/plain": [
       "1020"
      ]
     },
     "execution_count": 257,
     "metadata": {},
     "output_type": "execute_result"
    }
   ],
   "source": [
    "len(combined_results)"
   ]
  },
  {
   "cell_type": "code",
   "execution_count": 258,
   "metadata": {},
   "outputs": [],
   "source": [
    "# check structure of the combined results \n",
    "# and check correct removal of nodes not needed for evaluation\n",
    "for ecli, nodes in list(combined_results.items()):\n",
    "    for node_key, node_value in nodes.items():\n",
    "            # should result in no print statements\n",
    "            if 'generate' in node_key and node_value.get('documents') is None:\n",
    "                print(f\"  Node: {node_key}, Documents: {node_value.get('documents')}\")\n",
    "            # if 'generate' in node_key and node_value.get('documents') is not None:\n",
    "            #      print(f\"  Node: {node_key}, Documents: {len(node_value.get('documents'))}\")\n",
    "            "
   ]
  },
  {
   "cell_type": "code",
   "execution_count": 259,
   "metadata": {},
   "outputs": [
    {
     "data": {
      "text/plain": [
       "dict_keys(['generate_basic_1', 'grade_documents_1', 'generate_1', 'grade_documents_2', 'generate_2', 'generate_final_answer_1'])"
      ]
     },
     "execution_count": 259,
     "metadata": {},
     "output_type": "execute_result"
    }
   ],
   "source": [
    "combined_results['ECLI_NL_RBZWB_2021_1987'].keys()"
   ]
  },
  {
   "cell_type": "markdown",
   "metadata": {},
   "source": [
    "#### Subset for feedback improvement"
   ]
  },
  {
   "cell_type": "code",
   "execution_count": 299,
   "metadata": {},
   "outputs": [],
   "source": [
    "def filter_combined_results(combined_dict):\n",
    "    filtered_dict = {k: v for k, v in combined_dict.items() \n",
    "                     if 'generate_final_answer_1' in v and 'generate_final_answer_2' in v}\n",
    "    return filtered_dict"
   ]
  },
  {
   "cell_type": "code",
   "execution_count": 300,
   "metadata": {},
   "outputs": [
    {
     "data": {
      "text/plain": [
       "dict_keys(['ECLI_NL_RBNHO_2022_10521', 'ECLI_NL_RBAMS_2020_192', 'ECLI_NL_RBROT_2020_11947', 'ECLI_NL_RBZWB_2023_5579', 'ECLI_NL_GHAMS_2022_3650'])"
      ]
     },
     "execution_count": 300,
     "metadata": {},
     "output_type": "execute_result"
    }
   ],
   "source": [
    "fb_subset = filter_combined_results(combined_results)\n",
    "fb_subset.keys()"
   ]
  },
  {
   "cell_type": "markdown",
   "metadata": {},
   "source": [
    "#### Construct evaluation datasets & Metrics\n",
    "\n",
    "* Create data set per generation node \n",
    "* Calculate hit rate on grade_document nodes\n",
    "* Calculate judge relevacny on presence of feedback in final_answer nodes. If no feedback is present --> LLM has judged answer to be relevant (1)\n",
    "* Calculate improvement between final_1 relevancy if feedback was present versus final_2 relevancy "
   ]
  },
  {
   "cell_type": "code",
   "execution_count": 260,
   "metadata": {},
   "outputs": [],
   "source": [
    "\n",
    "\n",
    "def get_eval_data(results):\n",
    "    eval_datasets = {\n",
    "        'generate_basic_1': {'question': [], 'answer': [], 'contexts': []},\n",
    "        'generate_1': {'question': [], 'answer': [], 'contexts': []},\n",
    "        'generate_2': {'question': [], 'answer': [], 'contexts': []},\n",
    "        'generate_final_answer_1': {'question': [], 'answer': [], 'contexts': []},\n",
    "        'generate_final_answer_2': {'question': [], 'answer': [], 'contexts': []}\n",
    "    }\n",
    "    \n",
    "    for ecli, outputs in results.items():\n",
    "        for key, output in outputs.items():\n",
    "             if key in eval_datasets:\n",
    "                eval_datasets[key]['question'].append(output['question'])\n",
    "                eval_datasets[key]['answer'].append(output['generation'])\n",
    "                eval_datasets[key]['contexts'].append([doc for doc in output['documents']])\n",
    "    \n",
    "    return eval_datasets\n",
    "\n",
    "\n",
    "            "
   ]
  },
  {
   "cell_type": "code",
   "execution_count": 261,
   "metadata": {},
   "outputs": [],
   "source": [
    "data = get_eval_data(combined_results)"
   ]
  },
  {
   "cell_type": "code",
   "execution_count": 301,
   "metadata": {},
   "outputs": [],
   "source": [
    "data_subset = get_eval_data(fb_subset)"
   ]
  },
  {
   "cell_type": "code",
   "execution_count": 262,
   "metadata": {},
   "outputs": [
    {
     "data": {
      "text/plain": [
       "dict_keys(['question', 'answer', 'contexts'])"
      ]
     },
     "execution_count": 262,
     "metadata": {},
     "output_type": "execute_result"
    }
   ],
   "source": [
    "data['generate_final_answer_2'].keys()"
   ]
  },
  {
   "cell_type": "code",
   "execution_count": 364,
   "metadata": {},
   "outputs": [
    {
     "name": "stdout",
     "output_type": "stream",
     "text": [
      "generate_basic_1, 1020\n",
      "generate_1, 969\n",
      "generate_2, 378\n",
      "generate_final_answer_1, 950\n",
      "generate_final_answer_2, 5\n"
     ]
    }
   ],
   "source": [
    "# check lengths to see distribution over the 'generate' nodes\n",
    "for key in data.keys():\n",
    "    print(f\"{key}, {len(data[key]['question'])}\")\n"
   ]
  },
  {
   "cell_type": "code",
   "execution_count": 303,
   "metadata": {},
   "outputs": [
    {
     "name": "stdout",
     "output_type": "stream",
     "text": [
      "generate_basic_1, 5\n",
      "generate_1, 5\n",
      "generate_2, 2\n",
      "generate_final_answer_1, 5\n",
      "generate_final_answer_2, 5\n"
     ]
    }
   ],
   "source": [
    "# check lengths to see if subset is correct\n",
    "for key in data_subset.keys():\n",
    "    print(f\"{key}, {len(data_subset[key]['question'])}\")"
   ]
  },
  {
   "cell_type": "code",
   "execution_count": 120,
   "metadata": {},
   "outputs": [],
   "source": [
    "metrics = [answer_relevancy]"
   ]
  },
  {
   "cell_type": "markdown",
   "metadata": {},
   "source": [
    "\n",
    "### GPT 3.5-turbo 0125 Evaluator"
   ]
  },
  {
   "cell_type": "code",
   "execution_count": 208,
   "metadata": {},
   "outputs": [],
   "source": [
    "os.environ['OPENAI_API_KEY'] = 'YOUR_API_KEY'"
   ]
  },
  {
   "cell_type": "code",
   "execution_count": 196,
   "metadata": {},
   "outputs": [],
   "source": [
    "\n",
    "from langchain_openai import OpenAIEmbeddings\n",
    "from langchain.chat_models import ChatOpenAI"
   ]
  },
  {
   "cell_type": "code",
   "execution_count": 209,
   "metadata": {},
   "outputs": [],
   "source": [
    "llm_gpt = ChatOpenAI(model='gpt-3.5-turbo-0125', temperature=0, api_key=os.environ['OPENAI_API_KEY'])\n",
    "embeddings_gpt = OpenAIEmbeddings(model='text-embedding-3-small')"
   ]
  },
  {
   "cell_type": "code",
   "execution_count": 210,
   "metadata": {},
   "outputs": [],
   "source": [
    "llm_gpt = LangchainLLMWrapper(llm_gpt)"
   ]
  },
  {
   "cell_type": "code",
   "execution_count": 211,
   "metadata": {},
   "outputs": [],
   "source": [
    "for m in metrics:\n",
    "    # change LLM for metric\n",
    "    m.__setattr__(\"llm\", llm_gpt)\n",
    "\n",
    "    # check if this metric needs embeddings\n",
    "    if hasattr(m, \"embeddings\"):\n",
    "        # if so change with OpenAI Embeddings\n",
    "        m.__setattr__(\"embeddings\", embeddings_gpt)"
   ]
  },
  {
   "cell_type": "code",
   "execution_count": null,
   "metadata": {},
   "outputs": [],
   "source": [
    "score_gpt = evaluate(dataset,\n",
    "                     metrics=metrics,\n",
    "                     raise_exceptions=False)\n"
   ]
  },
  {
   "cell_type": "code",
   "execution_count": 36,
   "metadata": {},
   "outputs": [],
   "source": [
    "score_gpt.to_pandas().to_excel('score_gpt.xlsx')"
   ]
  },
  {
   "cell_type": "code",
   "execution_count": 37,
   "metadata": {},
   "outputs": [
    {
     "data": {
      "text/plain": [
       "{'faithfulness': 0.9631, 'answer_relevancy': 0.7608, 'context_relevancy': 0.1051}"
      ]
     },
     "execution_count": 37,
     "metadata": {},
     "output_type": "execute_result"
    }
   ],
   "source": [
    "score_gpt"
   ]
  },
  {
   "cell_type": "code",
   "execution_count": 28,
   "metadata": {},
   "outputs": [
    {
     "data": {
      "text/plain": [
       "array(['5.3.6 5.3.7 5.4[medeverdachte 12] – [encrochatnaam 4] @ encrochat .com, [encrochatnaam 11] @encrochat .com en [encrochatnaam 12] @ encrochat .com in het proces- verbaal van bevindingen ‘identificatie encrochat -accounts [medeverdachte 12] ’ 11 en in het proces- verbaal van bevindingen ‘identificatie [encrochatnaam 4] @ encrochat .com, [encrochatnaam 11] @ encrochat .com en [encrochatnaam 12] @ encrochat .com = [medeverdachte 12] ’12 zijn de feiten en omstandigheden opgesomd op grond w aarvan de politie heeft geconcludeerd dat [medeverdachte 12] de gebruik er was van dez e encrochat -accounts. in het eerstgenoemde proces- verbaal is tevens opgenomen dat uit het onderz oek 26t umwater het sterk e vermoeden is ontstaan dat [medeverdachte 12] werkzaam w as voor [medeverdachte 10] en dat zij een direct, nauw contact van elkaar w aren. en ook is daarin opgenomen dat [medeverdachte 12] de bijnaam ‘ [bijnaam 2] ’ had. de verdediging heeft dez e bevindingen en conclusie van de politie niet bestreden. in hoger beroep heeft [medeverdachte 10] verklaard dat [medeverdachte 12] tot zijn criminele groep behoorde, maar dat hij – z o begrijpt het hof – is geliquideerd. 13. het staat verder niet ter discussie dat [medeverdachte 10] hiermee doelde op de op [datum] geliquideerde [medeverdachte 12] . 14 ten slotte is van belang dat [medeverdachte 6] , als getuige, heeft verklaard dat ‘ [bijnaam 2] ’ een bijnaam van [medeverdachte 12] w as. het hof concludeert op grond hiervan dat [medeverdachte 12] de gebruik er was van genoemde encrochat -accounts. [medeverdachte 10] – [encrochatnaam 3] @ encrochat .com en [encrochatnaam 13] @encrochat .com met betrekking tot [medeverdachte 10] is er niet één proces- verbaal van bevindingen w aarin de politie alle feiten en omstandigheden heeft opgesomd op grond w aarvan zij concludeert dat hij de gebruik er was van de encrochat -accounts [encrochatnaam 3] @ encrochat .com en [encrochatnaam 13] @ encrochat .com. de politie heeft hier aan verschillende',\n",
       "       'begrijpt: [medeverdachte 9] ) m ff meegenomen ook de politie nam de inhoud van de berichten uiterst serieus. uit het na volgende zal bijvoorbeeld blijk en dat de z oektocht naar de hiervoor genoemde ‘ [persoon 4] ’ (geïdentificeerd als [persoon 4] , ook aangeduid met [persoon 4] ) ertoe leidde dat men zijn vrouw en kind wilde ontvoeren. het plan leek z o ver gevorderd dat de politie hen heeft gew aarschuwd. ook o verigens zal blijk en dat het stadium van louter plannen mak en al ver was gepasseerd. identificatie encrochat -gebruikers het bewijs tegen de verdachten in het onderz oek 26douglasville bestaat voor een belangrijk deel uit berichten verkeer (chatgesprekk en) dat verschillende gebruik ers hebben gevoerd met hun encrochat - telefoon. ten behoeve van de identificatie van de gebruik er van een bepaalde gebruik ersnaam ( encrochat -account) heeft de politie onder meer gek eken naar de onderlinge verbanden tussen de inhoud van chatberichten, het taalgebruik, paallocaties (z endmastgegevens) van encrochat -telefoons en van andere mobiele telefoons, de inhoud en tijdstippen van afgeluisterde telefoongesprekk en, tijdtippen van chatberichten, observaties (al dan niet met behulp van camer a’s) en de tijdstippen en locaties daarvan, verstuurde foto’ s, in beslag genomen goederen en de persoonlijk e omstandigheden van de in het onderz oek naar voren gek omen verdachten. hiervan is verslag gedaan in verschillende processen- verbaal van bevindingen. in dez e processen- verbaal van bevindingen, afz onderlijk of in onderling verband beschouwd, zijn de redengevende feiten en omstandigheden opgenomen op grond w aarvan de k oppeling per (gewez en) verdachte aan een bepaalde encrochat -gebruik ersnaam kan worden bewez en. het hof heeft er voor gekozen om – met gebruik making van voetnoten – te verwijz en naar de inhoud van bedoelde processen- verbaal, omdat naast de verdachte ook de meeste medeverdachten in hoger beroep een andere proceshouding hebben ingenomen dan in eerste',\n",
       "       '3] @ encrochat .com en [encrochatnaam 13] @ encrochat .com. de politie heeft hier aan verschillende processen- verbaal ten grondslag gelegd. de rechtbank heeft hier aan de feiten en omstandigheden ontleend op grond w aarvan zij ook tot de conclusie is gek omen dat [medeverdachte 10] de gebruik er was van dez e accounts. het hof verwijst hiervoor naar de o verwegingen van de rechtbank op pagina 33 tot en met 39 van het vonnis onder het kopje “ [medeverdachte 10] ” en neemt dez e over. de verdediging heeft dit oordeel van de rechtbank niet bestreden. daarnaast is van belang dat [medeverdachte 10] in hoger beroep als getuige een verklaring heeft afgelegd. dat betrof een vooraf opgestelde verklaring op schrift en dez e is door [medeverdachte 10] voorgelez en. vr agen daaro ver heeft hij niet willen beantwoorden. in dez e verklaring heeft [medeverdachte 10] niet met z oveel woorden erk end dat hij de gebruik er was van voornoemde encrochat -acccounts. w el heeft [medeverdachte 10] bek end dat hij een groep vormde met onder andere [medeverdachte 6] en dat zij zich bezig hielden met de in voer van en handel in verdovende middelen 15. dat heeft [medeverdachte 6] , als getuige, bevestigd. in dat verband heeft hij tevens verklaard dat [medeverdachte 10] de gebruik er was van het encrochat -account [encrochatnaam 3] @encrochat .com en dat het kan kloppen dat hij ook gebruik heeft gemaakt van het account [encrochatnaam 13] @ encrochat .com. 16 op grond van het voorgaande concludeert het hof dat [medeverdachte 10] de gebruik er was van de encrochat -accounts [encrochatnaam 3] @ encrochat .com en [encrochatnaam 13] @ encrochat .com. voorbereidingshandelingen loodsen in wouwse plantage en rotterdam op 22 juni 2020 heeft de politie een loods, met bijbehorende k euken en ontspanningsruimte, aan de [adres 1] in w ouwse plantage doorz ocht. op dez elfde dag heeft de politie een tweede loods met kantoorruimte, aan de [adres 2] in r otterdam, doorz ocht. in de loods in w ouwse plantage',\n",
       "       'de meeste medeverdachten in hoger beroep een andere proceshouding hebben ingenomen dan in eerste aanleg. zij bestrijden niet langer dat zij de gebruik er zijn geweest van de encrochat -accounts die de politie aan hen heeft toegeschreven. de verklaringen die de verdachten daaro ver, ook als getuige, hebben afgelegd gelden eveneens als bewijsmiddel, w aarnaar het hof ook met voetnoten heeft verwez en.'],\n",
       "      dtype=object)"
      ]
     },
     "execution_count": 28,
     "metadata": {},
     "output_type": "execute_result"
    }
   ],
   "source": [
    "score.to_pandas()['contexts'][1]"
   ]
  },
  {
   "cell_type": "markdown",
   "metadata": {},
   "source": [
    "### Gemini 1.5-PRO Evaluator using VertexAI"
   ]
  },
  {
   "cell_type": "code",
   "execution_count": 304,
   "metadata": {},
   "outputs": [],
   "source": [
    "\n",
    "from langchain.chat_models import ChatVertexAI\n",
    "from langchain.embeddings import VertexAIEmbeddings"
   ]
  },
  {
   "cell_type": "code",
   "execution_count": 305,
   "metadata": {},
   "outputs": [],
   "source": [
    "import google.auth"
   ]
  },
  {
   "cell_type": "code",
   "execution_count": 306,
   "metadata": {},
   "outputs": [],
   "source": [
    "config = {\n",
    "    \"project_id\": \"YOUR_PROJECT_ID\",\n",
    "}\n",
    "\n",
    "# authenticate to GCP\n",
    "creds, _ = google.auth.default(quota_project_id=\"YOUR_PROJECT_ID\")"
   ]
  },
  {
   "cell_type": "code",
   "execution_count": 307,
   "metadata": {},
   "outputs": [],
   "source": [
    "import vertexai"
   ]
  },
  {
   "cell_type": "code",
   "execution_count": 308,
   "metadata": {},
   "outputs": [],
   "source": [
    "vertexai.init(project=\"YOUR_PROJECT_ID\")\n"
   ]
  },
  {
   "cell_type": "code",
   "execution_count": 309,
   "metadata": {},
   "outputs": [
    {
     "name": "stderr",
     "output_type": "stream",
     "text": [
      "Model_name will become a required arg for VertexAIEmbeddings starting from Feb-01-2024. Currently the default is set to textembedding-gecko@001\n"
     ]
    }
   ],
   "source": [
    "llm = ChatVertexAI(temperature=0, model='gemini-pro', credentials=creds)\n",
    "vertexai_embeddings = VertexAIEmbeddings(credentials=creds)"
   ]
  },
  {
   "cell_type": "code",
   "execution_count": 310,
   "metadata": {},
   "outputs": [],
   "source": [
    "from ragas.llms import LangchainLLMWrapper\n",
    "ragas_vertexai_llm = LangchainLLMWrapper(llm)"
   ]
  },
  {
   "cell_type": "code",
   "execution_count": 311,
   "metadata": {},
   "outputs": [],
   "source": [
    "for m in metrics:\n",
    "    # change LLM for metric\n",
    "    m.__setattr__(\"llm\", ragas_vertexai_llm)\n",
    "\n",
    "    # check if this metric needs embeddings\n",
    "    if hasattr(m, \"embeddings\"):\n",
    "        # if so change with VertexAI Embeddings\n",
    "        m.__setattr__(\"embeddings\", vertexai_embeddings)"
   ]
  },
  {
   "cell_type": "code",
   "execution_count": 312,
   "metadata": {},
   "outputs": [
    {
     "name": "stdout",
     "output_type": "stream",
     "text": [
      "[AnswerRelevancy(embeddings=VertexAIEmbeddings(project=None, location='us-central1', request_parallelism=5, max_retries=6, stop=None, model_name='textembedding-gecko@001', client=<vertexai.language_models.TextEmbeddingModel object at 0x00000192B0167500>, client_preview=None, temperature=0.0, max_output_tokens=128, top_p=0.95, top_k=40, credentials=<google.oauth2.credentials.Credentials object at 0x000001928B8BC5F0>, n=1, streaming=False, instance={'max_batch_size': 250, 'batch_size': 250, 'min_batch_size': 5, 'min_good_batch_size': 5, 'lock': <unlocked _thread.lock object at 0x00000192ADFAA400>, 'batch_size_validated': False, 'task_executor': <concurrent.futures.thread.ThreadPoolExecutor object at 0x00000192ACF431D0>, 'embeddings_task_type_supported': False}, show_progress_bar=False), llm=LangchainLLMWrapper(run_config=RunConfig(timeout=60, max_retries=10, max_wait=60, max_workers=16, exception_types=<class 'Exception'>)), name='answer_relevancy', evaluation_mode=<EvaluationMode.qac: 1>, question_generation=Prompt(name='question_generation', instruction='Generate a question for the given answer and Identify if answer is noncommittal. Give noncommittal as 1 if the answer is noncommittal and 0 if the answer is committal. A noncommittal answer is one that is evasive, vague, or ambiguous. For example, \"I don\\'t know\" or \"I\\'m not sure\" are noncommittal answers', output_format_instruction='The output should be a well-formatted JSON instance that conforms to the JSON schema below.\\n\\nAs an example, for the schema {\"properties\": {\"foo\": {\"title\": \"Foo\", \"description\": \"a list of strings\", \"type\": \"array\", \"items\": {\"type\": \"string\"}}}, \"required\": [\"foo\"]}\\nthe object {\"foo\": [\"bar\", \"baz\"]} is a well-formatted instance of the schema. The object {\"properties\": {\"foo\": [\"bar\", \"baz\"]}} is not well-formatted.\\n\\nHere is the output JSON schema:\\n```\\n{\"type\": \"object\", \"properties\": {\"question\": {\"title\": \"Question\", \"type\": \"string\"}, \"noncommittal\": {\"title\": \"Noncommittal\", \"type\": \"integer\"}}, \"required\": [\"question\", \"noncommittal\"]}\\n```\\n\\nDo not return any preamble or explanations, return only a pure JSON string surrounded by triple backticks (```).', examples=[{'answer': ' Albert Einstein werd geboren in Duitsland.', 'context': ' Albert Einstein was een in Duitsland geboren theoretisch natuurkundige die algemeen wordt beschouwd als een van de grootste en meest invloedrijke wetenschappers aller tijden', 'output': {'question': 'Waar is Albert Einstein geboren?', 'noncommittal': 0}}, {'answer': ' Het kan zijn huidskleur veranderen op basis van de temperatuur van zijn omgeving.', 'context': ' Een recente wetenschappelijke studie heeft een nieuwe kikkersoort ontdekt in het Amazone-regenwoud die het unieke vermogen heeft om zijn huidskleur te veranderen op basis van de temperatuur van zijn omgeving.', 'output': {'question': 'Wat is het unieke vermogen van de nieuw ontdekte kikkersoort?', 'noncommittal': 0}}, {'answer': ' Everest', 'context': ' De hoogste berg ter wereld, gemeten vanaf zeeniveau, is een beroemde piek in de Himalaya.', 'output': {'question': 'Wat is de hoogste berg op aarde?', 'noncommittal': 0}}, {'answer': ' Ik weet niets over de baanbrekende functie van de smartphone die in 2023 is uitgevonden, omdat ik geen informatie heb over gebeurtenissen na 2022.', 'context': ' In 2023 werd een baanbrekende uitvinding aangekondigd: een smartphone met een batterijduur van een maand, wat de manier waarop mensen mobiele technologie gebruiken revolutioneert.', 'output': {'question': 'Wat was de baanbrekende functie van de smartphone die in 2023 werd uitgevonden?', 'noncommittal': 1}}], input_keys=['answer', 'context'], output_key='output', output_type='json', language='dutch'), strictness=3)]\n"
     ]
    }
   ],
   "source": [
    "print(metrics)"
   ]
  },
  {
   "cell_type": "code",
   "execution_count": 313,
   "metadata": {},
   "outputs": [],
   "source": [
    "from ragas import adapt\n",
    "# llm is base model, other is in wrapper\n",
    "adapt(metrics=metrics, language=\"dutch\", llm=llm)"
   ]
  },
  {
   "cell_type": "code",
   "execution_count": 314,
   "metadata": {},
   "outputs": [
    {
     "name": "stdout",
     "output_type": "stream",
     "text": [
      "[AnswerRelevancy(embeddings=VertexAIEmbeddings(project=None, location='us-central1', request_parallelism=5, max_retries=6, stop=None, model_name='textembedding-gecko@001', client=<vertexai.language_models.TextEmbeddingModel object at 0x00000192B0167500>, client_preview=None, temperature=0.0, max_output_tokens=128, top_p=0.95, top_k=40, credentials=<google.oauth2.credentials.Credentials object at 0x000001928B8BC5F0>, n=1, streaming=False, instance={'max_batch_size': 250, 'batch_size': 250, 'min_batch_size': 5, 'min_good_batch_size': 5, 'lock': <unlocked _thread.lock object at 0x00000192ADFAA400>, 'batch_size_validated': False, 'task_executor': <concurrent.futures.thread.ThreadPoolExecutor object at 0x00000192ACF431D0>, 'embeddings_task_type_supported': False}, show_progress_bar=False), llm=LangchainLLMWrapper(run_config=RunConfig(timeout=60, max_retries=10, max_wait=60, max_workers=16, exception_types=<class 'Exception'>)), name='answer_relevancy', evaluation_mode=<EvaluationMode.qac: 1>, question_generation=Prompt(name='question_generation', instruction='Generate a question for the given answer and Identify if answer is noncommittal. Give noncommittal as 1 if the answer is noncommittal and 0 if the answer is committal. A noncommittal answer is one that is evasive, vague, or ambiguous. For example, \"I don\\'t know\" or \"I\\'m not sure\" are noncommittal answers', output_format_instruction='The output should be a well-formatted JSON instance that conforms to the JSON schema below.\\n\\nAs an example, for the schema {\"properties\": {\"foo\": {\"title\": \"Foo\", \"description\": \"a list of strings\", \"type\": \"array\", \"items\": {\"type\": \"string\"}}}, \"required\": [\"foo\"]}\\nthe object {\"foo\": [\"bar\", \"baz\"]} is a well-formatted instance of the schema. The object {\"properties\": {\"foo\": [\"bar\", \"baz\"]}} is not well-formatted.\\n\\nHere is the output JSON schema:\\n```\\n{\"type\": \"object\", \"properties\": {\"question\": {\"title\": \"Question\", \"type\": \"string\"}, \"noncommittal\": {\"title\": \"Noncommittal\", \"type\": \"integer\"}}, \"required\": [\"question\", \"noncommittal\"]}\\n```\\n\\nDo not return any preamble or explanations, return only a pure JSON string surrounded by triple backticks (```).', examples=[{'answer': ' Albert Einstein werd geboren in Duitsland.', 'context': ' Albert Einstein was een in Duitsland geboren theoretisch natuurkundige die algemeen wordt beschouwd als een van de grootste en meest invloedrijke wetenschappers aller tijden', 'output': {'question': 'Waar is Albert Einstein geboren?', 'noncommittal': 0}}, {'answer': ' Het kan zijn huidskleur veranderen op basis van de temperatuur van zijn omgeving.', 'context': ' Een recente wetenschappelijke studie heeft een nieuwe kikkersoort ontdekt in het Amazone-regenwoud die het unieke vermogen heeft om zijn huidskleur te veranderen op basis van de temperatuur van zijn omgeving.', 'output': {'question': 'Wat is het unieke vermogen van de nieuw ontdekte kikkersoort?', 'noncommittal': 0}}, {'answer': ' Everest', 'context': ' De hoogste berg ter wereld, gemeten vanaf zeeniveau, is een beroemde piek in de Himalaya.', 'output': {'question': 'Wat is de hoogste berg op aarde?', 'noncommittal': 0}}, {'answer': ' Ik weet niets over de baanbrekende functie van de smartphone die in 2023 is uitgevonden, omdat ik geen informatie heb over gebeurtenissen na 2022.', 'context': ' In 2023 werd een baanbrekende uitvinding aangekondigd: een smartphone met een batterijduur van een maand, wat de manier waarop mensen mobiele technologie gebruiken revolutioneert.', 'output': {'question': 'Wat was de baanbrekende functie van de smartphone die in 2023 werd uitgevonden?', 'noncommittal': 1}}], input_keys=['answer', 'context'], output_key='output', output_type='json', language='dutch'), strictness=3)]\n"
     ]
    }
   ],
   "source": [
    "print(metrics)"
   ]
  },
  {
   "cell_type": "code",
   "execution_count": 151,
   "metadata": {},
   "outputs": [],
   "source": [
    "evaluation_scores = {}"
   ]
  },
  {
   "cell_type": "code",
   "execution_count": null,
   "metadata": {},
   "outputs": [],
   "source": [
    "\n",
    "for key in data.keys():\n",
    "    dataset = Dataset.from_dict(data[key])\n",
    "    \n",
    "    score_vertex_NL = evaluate(dataset=dataset,  \n",
    "                               metrics=metrics,\n",
    "                               raise_exceptions=False)\n",
    "    evaluation_scores[key] = score_vertex_NL"
   ]
  },
  {
   "cell_type": "code",
   "execution_count": 163,
   "metadata": {},
   "outputs": [
    {
     "data": {
      "text/plain": [
       "{'generate_basic_1': {'answer_relevancy': 0.6631},\n",
       " 'generate_1': {'answer_relevancy': 0.6561},\n",
       " 'generate_2': {'answer_relevancy': 0.8236},\n",
       " 'generate_final_answer_1': {'answer_relevancy': 0.8429},\n",
       " 'generate_final_answer_2': {'answer_relevancy': 0.7017}}"
      ]
     },
     "execution_count": 163,
     "metadata": {},
     "output_type": "execute_result"
    }
   ],
   "source": [
    "evaluation_scores"
   ]
  },
  {
   "cell_type": "code",
   "execution_count": 162,
   "metadata": {},
   "outputs": [],
   "source": [
    "for key in evaluation_scores.keys():\n",
    "    evaluation_scores[key].to_pandas().to_excel(f'{key}.xlsx')"
   ]
  },
  {
   "cell_type": "markdown",
   "metadata": {},
   "source": [
    "#### Evaluation of (NO) improvement before and after feedback"
   ]
  },
  {
   "cell_type": "code",
   "execution_count": 361,
   "metadata": {},
   "outputs": [],
   "source": [
    "eval_feedback = {}\n"
   ]
  },
  {
   "cell_type": "code",
   "execution_count": 362,
   "metadata": {},
   "outputs": [
    {
     "name": "stderr",
     "output_type": "stream",
     "text": [
      "Evaluating:   0%|          | 0/5 [00:00<?, ?it/s]"
     ]
    },
    {
     "name": "stderr",
     "output_type": "stream",
     "text": [
      "Evaluating: 100%|██████████| 5/5 [00:04<00:00,  1.06it/s]\n",
      "Evaluating: 100%|██████████| 5/5 [00:03<00:00,  1.26it/s]\n",
      "Evaluating: 100%|██████████| 2/2 [00:03<00:00,  1.88s/it]\n",
      "Evaluating: 100%|██████████| 5/5 [00:04<00:00,  1.04it/s]\n",
      "Evaluating: 100%|██████████| 5/5 [00:03<00:00,  1.26it/s]\n"
     ]
    }
   ],
   "source": [
    "for key in data_subset.keys():\n",
    "    dataset = Dataset.from_dict(data_subset[key])\n",
    "    \n",
    "    score_FB_NL = evaluate(dataset=dataset,  \n",
    "                               metrics=metrics,\n",
    "                               raise_exceptions=False)\n",
    "    eval_feedback[key] = score_FB_NL"
   ]
  },
  {
   "cell_type": "code",
   "execution_count": 363,
   "metadata": {},
   "outputs": [
    {
     "data": {
      "text/plain": [
       "{'generate_basic_1': {'answer_relevancy': 0.4525},\n",
       " 'generate_1': {'answer_relevancy': 0.6505},\n",
       " 'generate_2': {'answer_relevancy': 0.8658},\n",
       " 'generate_final_answer_1': {'answer_relevancy': 0.7037},\n",
       " 'generate_final_answer_2': {'answer_relevancy': 0.6918}}"
      ]
     },
     "execution_count": 363,
     "metadata": {},
     "output_type": "execute_result"
    }
   ],
   "source": [
    "eval_feedback"
   ]
  },
  {
   "cell_type": "code",
   "execution_count": null,
   "metadata": {},
   "outputs": [],
   "source": [
    "for key in eval_feedback.keys():\n",
    "    eval_feedback[key].to_pandas().to_excel(f'gpt_Feedback{key}.xlsx')"
   ]
  },
  {
   "cell_type": "markdown",
   "metadata": {},
   "source": [
    "### HIT RATES"
   ]
  },
  {
   "cell_type": "markdown",
   "metadata": {},
   "source": [
    "#### Retrieval HITS"
   ]
  },
  {
   "cell_type": "code",
   "execution_count": null,
   "metadata": {},
   "outputs": [],
   "source": [
    "for ecli, nodes in combined_results.items():\n",
    "    for node_key, node_value in nodes.items():\n",
    "        if  node_key == \"grade_documents_1\":\n",
    "            print(f\"{ecli}, {node_key}, {node_value.get('n_relevant_docs')}\")"
   ]
  },
  {
   "cell_type": "code",
   "execution_count": 344,
   "metadata": {},
   "outputs": [],
   "source": [
    "def calculate_hit_rates(results):\n",
    "    hit_rates = []\n",
    "    hit_rates_0 = []\n",
    "    hit_rates_1 = []\n",
    "    hit_rates_2 = []\n",
    "    hit_rates_3 = []\n",
    "\n",
    "    for ecli, nodes in results.items():\n",
    "        for node_key, node_value in nodes.items():\n",
    "            # get hit rates for first iteration\n",
    "            if node_key == 'grade_documents_1':\n",
    "                n_relevant_docs = node_value.get('n_relevant_docs')\n",
    "                n_ranked_docs = node_value.get('n_ranked_docs')  \n",
    "                \n",
    "                hit_rate = n_relevant_docs / n_ranked_docs\n",
    "                hit_rates.append(hit_rate)\n",
    "                \n",
    "                # store hit rates for first iteration\n",
    "                hit_rates_3.append(hit_rate)\n",
    "                \n",
    "                # if at first iteration threshold is met -> append to hit_rates_0\n",
    "                if n_relevant_docs >= 4:\n",
    "                    hit_rates_0.append(hit_rate)\n",
    "                else:\n",
    "                    hit_rates_1.append(hit_rate)\n",
    "\n",
    "            # get hit rates for second iteration\n",
    "            if node_key == 'grade_documents_2':\n",
    "                n_relevant_docs = node_value.get('n_relevant_docs')\n",
    "                n_ranked_docs = node_value.get('n_ranked_docs') \n",
    "                \n",
    "                hit_rate_2 = n_relevant_docs / n_ranked_docs\n",
    "                hit_rates_2.append(hit_rate_2)\n",
    "                # store hit rates for second iteration\n",
    "\n",
    "                hit_rates_3.append(hit_rate_2)\n",
    "    \n",
    "    return hit_rates, hit_rates_0, hit_rates_1, hit_rates_2, hit_rates_3\n",
    "\n",
    "def average_hit_rate(hit_rates):\n",
    "    return sum(hit_rates) / len(hit_rates)\n"
   ]
  },
  {
   "cell_type": "code",
   "execution_count": 345,
   "metadata": {},
   "outputs": [],
   "source": [
    "hit_rates, hit_rates_0, hit_rates_1, hit_rates_2, hit_rates_3 = calculate_hit_rates(combined_results)"
   ]
  },
  {
   "cell_type": "code",
   "execution_count": 346,
   "metadata": {},
   "outputs": [
    {
     "data": {
      "text/plain": [
       "0.3617195767195767"
      ]
     },
     "execution_count": 346,
     "metadata": {},
     "output_type": "execute_result"
    }
   ],
   "source": [
    "# average hit rate over all ECLI on first iteratiton\n",
    "average_hit_rate(hit_rates)"
   ]
  },
  {
   "cell_type": "code",
   "execution_count": 347,
   "metadata": {},
   "outputs": [
    {
     "data": {
      "text/plain": [
       "0.5928104575163399"
      ]
     },
     "execution_count": 347,
     "metadata": {},
     "output_type": "execute_result"
    }
   ],
   "source": [
    "# average hit rate when no second iteration of retrieval was needed\n",
    "average_hit_rate(hit_rates_0)"
   ]
  },
  {
   "cell_type": "code",
   "execution_count": 348,
   "metadata": {},
   "outputs": [
    {
     "data": {
      "text/plain": [
       "0.1455377850064757"
      ]
     },
     "execution_count": 348,
     "metadata": {},
     "output_type": "execute_result"
    }
   ],
   "source": [
    "# average hit rate over all ECLI and iterations with less than 3 relevant docs\n",
    "average_hit_rate(hit_rates_1)"
   ]
  },
  {
   "cell_type": "code",
   "execution_count": 349,
   "metadata": {},
   "outputs": [
    {
     "data": {
      "text/plain": [
       "0.23092602632450832"
      ]
     },
     "execution_count": 349,
     "metadata": {},
     "output_type": "execute_result"
    }
   ],
   "source": [
    "# average hit rate over all ECLI after second iteration of retrieval\n",
    "average_hit_rate(hit_rates_2)"
   ]
  },
  {
   "cell_type": "code",
   "execution_count": 350,
   "metadata": {},
   "outputs": [
    {
     "data": {
      "text/plain": [
       "0.3171635320794985"
      ]
     },
     "execution_count": 350,
     "metadata": {},
     "output_type": "execute_result"
    }
   ],
   "source": [
    "average_hit_rate(hit_rates_3)"
   ]
  },
  {
   "cell_type": "markdown",
   "metadata": {},
   "source": [
    "#### Distribution Plots Hit Rate"
   ]
  },
  {
   "cell_type": "code",
   "execution_count": 351,
   "metadata": {},
   "outputs": [],
   "source": [
    "import matplotlib.pyplot as plt\n",
    "import seaborn as sns"
   ]
  },
  {
   "cell_type": "code",
   "execution_count": 352,
   "metadata": {},
   "outputs": [],
   "source": [
    "def plot_hit_rate_distributions(hit_rates_dict):\n",
    "    plt.figure(figsize=(14, 10))\n",
    "    \n",
    "    plot_titles = [\n",
    "        'Distribution of All Hit Rates',\n",
    "        'Hit Rates (n_relevant_docs >= 4 in First Iteration)',\n",
    "        'Hit Rates (n_relevant_docs < 4 in First Iteration)',\n",
    "        'Hit Rates from Second Iteration'\n",
    "    ]\n",
    "    \n",
    "    for idx, (hit_rates, title) in enumerate(zip(hit_rates_dict.values(), plot_titles), start=1):\n",
    "        plt.subplot(2, 2, idx)\n",
    "        sns.histplot(hit_rates, bins=7, kde=True, color='skyblue', edgecolor='black')\n",
    "        plt.title(title, fontsize=14)\n",
    "        plt.xlabel('Hit Rate', fontsize=12)\n",
    "        plt.ylabel('Frequency', fontsize=12)\n",
    "        plt.grid(True)\n",
    "    \n",
    "    plt.tight_layout()\n",
    "    plt.show()"
   ]
  },
  {
   "cell_type": "code",
   "execution_count": 353,
   "metadata": {},
   "outputs": [
    {
     "data": {
      "image/png": "[encoded data removed]",
      "text/plain": [
       "<Figure size 1400x1000 with 4 Axes>"
      ]
     },
     "metadata": {},
     "output_type": "display_data"
    }
   ],
   "source": [
    "hit_rates_dict = {\n",
    "    'all': hit_rates,\n",
    "    'first_iteration_high': hit_rates_0,\n",
    "    'first_iteration_low': hit_rates_1,\n",
    "    'second_iteration': hit_rates_2,\n",
    "}\n",
    "\n",
    "plot_hit_rate_distributions(hit_rates_dict)"
   ]
  },
  {
   "cell_type": "markdown",
   "metadata": {},
   "source": [
    "#### Answer Grader HITS\n",
    " No feedback needed (final_1) /  Total Cases analyzed"
   ]
  },
  {
   "cell_type": "code",
   "execution_count": 296,
   "metadata": {},
   "outputs": [
    {
     "data": {
      "text/plain": [
       "0.9313725490196079"
      ]
     },
     "execution_count": 296,
     "metadata": {},
     "output_type": "execute_result"
    }
   ],
   "source": [
    "len(data['generate_final_answer_1']['question']) / len(data['generate_basic_1']['question'])"
   ]
  }
 ],
 "metadata": {
  "kernelspec": {
   "display_name": "A-Thesis",
   "language": "python",
   "name": "python3"
  },
  "language_info": {
   "codemirror_mode": {
    "name": "ipython",
    "version": 3
   },
   "file_extension": ".py",
   "mimetype": "text/x-python",
   "name": "python",
   "nbconvert_exporter": "python",
   "pygments_lexer": "ipython3",
   "version": "3.12.3"
  }
 },
 "nbformat": 4,
 "nbformat_minor": 2
}
