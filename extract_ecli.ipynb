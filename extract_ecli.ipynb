{
 "cells": [
  {
   "cell_type": "code",
   "execution_count": 41,
   "metadata": {},
   "outputs": [],
   "source": [
    "import requests\n",
    "import xmltodict\n",
    "import pandas as pd\n",
    "from pathlib import Path\n",
    "import logging\n",
    "from datetime import datetime\n",
    "from selenium import webdriver\n",
    "from selenium.webdriver.chrome.service import Service\n",
    "from selenium.webdriver.common.by import By\n",
    "from selenium.webdriver.chrome.options import Options\n",
    "from selenium.webdriver.support.ui import WebDriverWait\n",
    "from selenium.webdriver.support import expected_conditions as EC\n",
    "from selenium.common.exceptions import TimeoutException, NoSuchElementException, ElementClickInterceptedException\n",
    "from selenium.webdriver.common.action_chains import ActionChains\n",
    "from bs4 import BeautifulSoup\n",
    "import os\n",
    "import json\n",
    "import time\n"
   ]
  },
  {
   "cell_type": "code",
   "execution_count": 33,
   "metadata": {},
   "outputs": [],
   "source": [
    "\n",
    "\n",
    "def get_eclis():\n",
    "    \"\"\"\n",
    "    function to load all ECLI links from the rechtspraak.nl website\n",
    "    Extract all ecli and stores them into list/text file\n",
    "    \"\"\"\n",
    "\n",
    "    chrome_options = Options()\n",
    "    # set path for chromedriver \n",
    "    chrome_path = \"C:/Program Files/Google-OLD/chrome-win64/chrome.exe\"\n",
    "    chrome_options.binary_location = chrome_path  \n",
    "    # chrome_options.add_argument(\"--headless\")  #\n",
    "    driver = webdriver.Chrome(options=chrome_options)\n",
    "\n",
    "    url = 'https://uitspraken.rechtspraak.nl/resultaat?zoekterm=~encrochat%20~sky-ecc%20~ennetcom%20~anom%20~pgp-safe%20~exclu&inhoudsindicatie=zt0&sort=Relevance&publicatiestatus=ps1&rechtsgebied=r3'\n",
    "\n",
    "    driver.get(url)\n",
    "\n",
    "\n",
    "    ecli_links = []\n",
    "    while len(ecli_links) < 10:\n",
    "        try:\n",
    "            # Find the 'Laad meer resultaten' button\n",
    "            load_more_button = driver.find_element(By.ID, \"lib-rnl-lib-rnl-laadMeerBtn\")\n",
    "\n",
    "            # if found, click the button\n",
    "            if load_more_button:\n",
    "                driver.execute_script(\"arguments[0].scrollIntoView(true);\", load_more_button)\n",
    "                time.sleep(2)\n",
    "                load_more_button.click()\n",
    "                print(\"Clicked 'Laad meer resultaten' button.\")\n",
    "                time.sleep(2)  # Wait for the page to load more result\n",
    "\n",
    "        # if not found, break the loop\n",
    "\n",
    "        except Exception as e:\n",
    "            print(f\"No more 'Laad meer resultaten' button found.{e}\")\n",
    "            break\n",
    "\n",
    "    # proces page_source with beautifulsoup\n",
    "    soup = BeautifulSoup(driver.page_source, 'html.parser')\n",
    "\n",
    "    # get all the links tha contain ecli    \n",
    "    ecli_links = [a['href'] for a in soup.find_all('a', href=True) if 'ECLI:' in a.text]\n",
    "    \n",
    "    \n",
    "\n",
    "    return ecli_links\n",
    "\n",
    "\n",
    "\n"
   ]
  },
  {
   "cell_type": "code",
   "execution_count": null,
   "metadata": {},
   "outputs": [],
   "source": [
    "eclis = get_eclis()"
   ]
  },
  {
   "cell_type": "code",
   "execution_count": 38,
   "metadata": {},
   "outputs": [],
   "source": [
    "# only keep unique eclis\n",
    "eclis_uniq = list(set(eclis))"
   ]
  },
  {
   "cell_type": "code",
   "execution_count": 40,
   "metadata": {},
   "outputs": [],
   "source": [
    "# post process links\n",
    "processed_eclis = []\n",
    "base_url = 'https://uitspraken.rechtspraak.nl'\n",
    "for link in eclis_uniq:\n",
    "    if not link.startswith('https://'):\n",
    "        link = f\"{base_url}{link}\"\n",
    "    processed_eclis.append(link)"
   ]
  },
  {
   "cell_type": "code",
   "execution_count": 42,
   "metadata": {},
   "outputs": [],
   "source": [
    " # Save current links to checkpoint file\n",
    "with open('processed_eclis.txt', 'w') as file:\n",
    "    for link in processed_eclis:\n",
    "        file.write(f\"{link}\\n\")"
   ]
  },
  {
   "cell_type": "markdown",
   "metadata": {},
   "source": [
    "## Via API\n",
    "Not needed since we have all the eclis, but key word search via API potential upgrade"
   ]
  },
  {
   "cell_type": "code",
   "execution_count": 8,
   "metadata": {},
   "outputs": [],
   "source": [
    "# Set up logging\n",
    "logging.basicConfig(level=logging.INFO, format='%(asctime)s - %(levelname)s - %(message)s')\n",
    "\n",
    "# Constants\n",
    "API_BASE_URL = \"https://data.rechtspraak.nl/uitspraken/zoeken?\"\n",
    "\n",
    "def check_api(url):\n",
    "    \"\"\"Check if the API is reachable and return the status code.\"\"\"\n",
    "    try:\n",
    "        response = requests.get(url, timeout=10)\n",
    "        response.raise_for_status()  # Will raise an error for 4XX or 5XX status\n",
    "        return response.status_code\n",
    "    except requests.RequestException as e:\n",
    "        logging.error(f\"Failed to reach the API: {e}\")\n",
    "        return None\n",
    "\n",
    "def fetch_data(url):\n",
    "    \"\"\"Fetch and convert XML data from the API URL to a JSON-like Python dictionary.\"\"\"\n",
    "    try:\n",
    "        response = requests.get(url)\n",
    "        response.raise_for_status()\n",
    "        xml_data = xmltodict.parse(response.text)\n",
    "        json_data = xml_data['feed']['entry'] if 'entry' in xml_data['feed'] else []\n",
    "        return json_data\n",
    "    except requests.RequestException as e:\n",
    "        logging.error(f\"Error fetching data: {e}\")\n",
    "        return []\n",
    "    except Exception as e:\n",
    "        logging.error(f\"Error parsing XML data: {e}\")\n",
    "        return []\n",
    "\n",
    "def save_to_csv(data, filename):\n",
    "    \"\"\"Save extracted data to a CSV file.\"\"\"\n",
    "    if data:\n",
    "        df = pd.DataFrame(data)\n",
    "        Path('data').mkdir(parents=True, exist_ok=True)\n",
    "        file_path = Path('data') / f'{filename}.csv'\n",
    "        df.to_csv(file_path, index=False, encoding='utf8')\n",
    "        logging.info(f\"Data saved to CSV file successfully at {file_path}\")\n",
    "    else:\n",
    "        logging.info(\"No data to save.\")\n",
    "\n",
    "def main(max_cases=100, start_date='1900-01-01', end_date=None, keywords=[], save_file=True):\n",
    "    logging.info(\"Starting Rechtspraak data extraction...\")\n",
    "\n",
    "    end_date = end_date or datetime.now().strftime(\"%Y-%m-%d\")\n",
    "\n",
    "    formatted_keywords = [quote(f\"2B%257e{keyword}\") for keyword in keywords]\n",
    "    keyword_query = ''.join(formatted_keywords)\n",
    "    url = f\"{API_BASE_URL}max={max_cases}&date={start_date}&date={end_date}&keyword={keyword_query}\"\n",
    "    print(url)\n",
    "    if check_api(url) == 200:\n",
    "        logging.info(\"API is responsive, proceeding with data fetching...\")\n",
    "        data = fetch_data(url)\n",
    "        if data:\n",
    "            filename = f'rechtspraak_{start_date}_{end_date}_{datetime.now().strftime(\"%H-%M-%S\")}'\n",
    "            if save_file:\n",
    "                save_to_csv(data, filename)\n",
    "        else:\n",
    "            logging.info(\"No cases found for the given dates.\")\n",
    "    else:\n",
    "        logging.error(\"API check failed.\")"
   ]
  },
  {
   "cell_type": "code",
   "execution_count": 11,
   "metadata": {},
   "outputs": [
    {
     "name": "stderr",
     "output_type": "stream",
     "text": [
      "2024-04-20 19:28:04,306 - INFO - Starting Rechtspraak data extraction...\n",
      "2024-04-20 19:28:04,428 - INFO - API is responsive, proceeding with data fetching...\n"
     ]
    },
    {
     "name": "stdout",
     "output_type": "stream",
     "text": [
      "https://data.rechtspraak.nl/uitspraken/zoeken?max=10&date=2023-01-01&date=2024-04-20&keyword=2B%25257eencrochat2B%25257esky-ecc2B%25257eennetcom2B%25257eanom2B%25257epgp-safe2B%25257eexclu\n"
     ]
    },
    {
     "name": "stderr",
     "output_type": "stream",
     "text": [
      "2024-04-20 19:28:04,533 - INFO - Data saved to CSV file successfully at data\\rechtspraak_2023-01-01_2024-04-20_19-28-04.csv\n"
     ]
    }
   ],
   "source": [
    "if __name__ == \"__main__\":\n",
    "    keywords = ['encrochat', 'sky-ecc', 'ennetcom', 'anom', 'pgp-safe', 'exclu']\n",
    "    main(max_cases=10, start_date='2023-01-01', keywords=keywords, save_file=True)"
   ]
  }
 ],
 "metadata": {
  "kernelspec": {
   "display_name": "A-Thesis",
   "language": "python",
   "name": "python3"
  },
  "language_info": {
   "codemirror_mode": {
    "name": "ipython",
    "version": 3
   },
   "file_extension": ".py",
   "mimetype": "text/x-python",
   "name": "python",
   "nbconvert_exporter": "python",
   "pygments_lexer": "ipython3",
   "version": "3.11.0"
  }
 },
 "nbformat": 4,
 "nbformat_minor": 2
}
